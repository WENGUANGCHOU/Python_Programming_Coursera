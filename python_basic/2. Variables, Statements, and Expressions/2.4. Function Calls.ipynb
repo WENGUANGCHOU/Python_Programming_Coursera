{
 "cells": [
  {
   "cell_type": "markdown",
   "metadata": {},
   "source": [
    "# 2.4.2. Functions are objects; parentheses invoke functions\n",
    "Remember that earlier we mentioned that some kinds of Python objects don’t have a nice printed representation? Functions are themselves just objects. If you tell Python to print the function object, rather than printing the results of invoking the function object, you’ll get one of those not-so-nice printed representations.\n",
    "\n",
    "Just typing the name of the function refers to the function as an object. Typing the name of the function followed by parentheses () invokes the function."
   ]
  },
  {
   "cell_type": "code",
   "execution_count": 7,
   "metadata": {},
   "outputs": [
    {
     "name": "stdout",
     "output_type": "stream",
     "text": [
      "<function square at 0x7fbbe0efdca0>\n",
      "81\n"
     ]
    }
   ],
   "source": [
    "# eg:\n",
    "def square(x):\n",
    "    return x*x\n",
    "\n",
    "# the function does not invokaed\n",
    "print(square)\n",
    "\n",
    "# the function is invoked by typing the name of funtion followed by parentheses()\n",
    "print(square(9))"
   ]
  },
  {
   "cell_type": "markdown",
   "metadata": {},
   "source": [
    "## Input -> Function -> Output"
   ]
  },
  {
   "cell_type": "code",
   "execution_count": null,
   "metadata": {},
   "outputs": [],
   "source": []
  }
 ],
 "metadata": {
  "kernelspec": {
   "display_name": "Python 3",
   "language": "python",
   "name": "python3"
  },
  "language_info": {
   "codemirror_mode": {
    "name": "ipython",
    "version": 3
   },
   "file_extension": ".py",
   "mimetype": "text/x-python",
   "name": "python",
   "nbconvert_exporter": "python",
   "pygments_lexer": "ipython3",
   "version": "3.8.5"
  }
 },
 "nbformat": 4,
 "nbformat_minor": 1
}
